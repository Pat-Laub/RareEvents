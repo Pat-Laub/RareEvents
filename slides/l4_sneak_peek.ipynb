{
 "cells": [
  {
   "cell_type": "code",
   "execution_count": 2,
   "metadata": {
    "hideCode": false,
    "hidePrompt": false,
    "slideshow": {
     "slide_type": "skip"
    }
   },
   "outputs": [],
   "source": [
    "%load_ext rpy2.ipython\n",
    "%matplotlib inline"
   ]
  },
  {
   "cell_type": "code",
   "execution_count": 3,
   "metadata": {
    "hideCode": false,
    "hidePrompt": false,
    "slideshow": {
     "slide_type": "skip"
    }
   },
   "outputs": [],
   "source": [
    "import matplotlib.pyplot as plt\n",
    "import numpy as np\n",
    "import numpy.random as rnd\n",
    "from scipy import stats\n",
    "import sympy as sym\n",
    "from IPython.display import Image\n",
    "\n",
    "plt.rcParams['figure.figsize'] = (20, 7)"
   ]
  },
  {
   "cell_type": "markdown",
   "metadata": {
    "slideshow": {
     "slide_type": "slide"
    }
   },
   "source": [
    "\n",
    "# Rare-event simulation\n",
    "## Lecture 4\n",
    "### Patrick Laub, Institut de Science Financière et d’Assurances"
   ]
  },
  {
   "cell_type": "markdown",
   "metadata": {
    "slideshow": {
     "slide_type": "subslide"
    }
   },
   "source": [
    "### Just need $f_X$ up to a constant\n",
    "\n",
    "Want to estimate $\\ell = \\mathbb{P}(X > \\gamma)$. To simulate from $(X \\mid X > \\ell)$ with density\n",
    "\n",
    "$$ f_{X \\mid X > \\gamma}(x) = \\frac{1\\{ x > \\gamma \\} f_X(x)}{\\ell} $$\n",
    "\n",
    "note that \n",
    "\n",
    "$$ \\frac{ f_{X \\mid X > \\gamma}(x) }{ f_{X \\mid X > \\gamma}(y) } = \\frac{ \\frac{1\\{ x > \\gamma \\} f_X(x)}{\\ell} }{ \\frac{1\\{ y > \\gamma \\} f_X(y)}{\\ell} } = \\frac{ 1\\{ x > \\gamma \\} f_X(x) }{ 1\\{ y > \\gamma \\} f_X(y) }  . $$"
   ]
  },
  {
   "cell_type": "markdown",
   "metadata": {
    "slideshow": {
     "slide_type": "slide"
    }
   },
   "source": [
    "## Markov property\n",
    "\n",
    "__Markov chains taking real values__: Discrete time process $(X_n)_{n \\ge 0}$ where $X_n \\in \\mathbb{R}$), with the _Markov property_:\n",
    "\n",
    "$$ \\mathbb{P}(X_n \\le x \\mid X_0 = x_0, X_1 = x_1, \\dots, X_{n-1} = x_{n-1}) = \\mathbb{P}(X_n \\le x \\mid X_{n-1} = x_{n-1}) $$\n",
    "\n",
    "for $x \\in \\mathbb{R}$. \n",
    "\n",
    "__Markov chains taking vector values__:\n",
    "\n",
    "Discrete time process $(\\mathbf{X}_n)_{n \\ge 0}$, where the process takes values inside a state space $\\mathbf{X}_n \\in \\mathbb{R}^n$, with the _Markov property_:\n",
    "\n",
    "$$ \\mathbb{P}(\\mathbf{X}_n \\in A \\mid \\mathbf{X}_0 = \\mathbf{x}_0, \\mathbf{X}_1 = \\mathbf{x}_1, \\dots, \\mathbf{X}_{n-1} = \\mathbf{x}_{n-1}) = \\mathbb{P}(\\mathbf{X}_n \\in A \\mid \\mathbf{X}_{n-1} = \\mathbf{x}_{n-1}) $$\n",
    "\n",
    "for $A \\in \\mathcal{B}(\\mathbb{R}^n)$. \n",
    "\n",
    "__Simplify notation__: Write the chain as $X_1, X_2,\\dots$ even if they are vector-valued. Say that they take values inside the _state space_ $\\mathcal{S}$ which can either be $\\mathbb{R}$ or $\\mathbb{R}^n$ or something else."
   ]
  },
  {
   "cell_type": "markdown",
   "metadata": {
    "slideshow": {
     "slide_type": "subslide"
    }
   },
   "source": [
    "## Transition kernel\n",
    "\n",
    "Say $p(y \\mid x)$ is the MC's _transition kernel_, which gives the density of proposing a jump to $y$ given we're currently at $x$. Specifically, \n",
    "\n",
    "$$ f_{X_{i} \\mid X_{i-1}}(y \\mid x) = \\mathbb{P}(X_i \\in [y + \\mathrm{d}y] \\mid X_{i-1}=x) = p(y \\mid x) .$$\n",
    "\n",
    "So, for every $x$, then $\\int_{\\mathcal{S}} p(y \\mid x) \\, \\mathrm{d}y = 1$ ."
   ]
  },
  {
   "cell_type": "markdown",
   "metadata": {
    "slideshow": {
     "slide_type": "subslide"
    }
   },
   "source": [
    "## Stationary distributions\n",
    "\n",
    "Some MCs have a stationary distribution, $\\pi(\\,\\cdot\\,)$, so if\n",
    "\n",
    "$$ X_0 \\sim \\pi(\\,\\cdot\\,) \\quad\\Rightarrow\\quad X_1 \\sim \\pi(\\,\\cdot\\,) \\quad\\Rightarrow\\quad X_2 \\sim \\pi(\\,\\cdot\\,) \\dots $$\n",
    "\n",
    "To be specific, if we have a MC with transition kernel $p(y \\mid x)$ and which takes values in $\\mathcal{S}$, \n",
    "\n",
    "$$ \n",
    "\\begin{aligned}\n",
    "f_{X_1}(x_1) \n",
    "&= \\int_{x_0 \\in \\mathcal{S}} f_{X_0,X_1}(x_0, x_1) \\, \\mathrm{d} x_0\n",
    "= \\int_{x_0 \\in \\mathcal{S}} f_{X_0}(x_0) f_{X_1 \\mid X_0}(x_1 \\mid x_0)  \\, \\mathrm{d} x_0 \\\\\n",
    "&= \\int_{x_0 \\in \\mathcal{S}} f_{X_0}(x_0) p(x_1 \\mid x_0) \\, \\mathrm{d} x_0\n",
    "= \\pi(x_1) .\n",
    "\\end{aligned}\n",
    "$$\n",
    "\n",
    "If $X_0$ has p.d.f. $f_{X_0}(x_0) = \\pi(x_0)$ and \n",
    "\n",
    "$$ f_{X_1}(x_1)\n",
    "= \\int_{x_0 \\in \\mathcal{S}} \\pi(x_0) p(x_1 \\mid x_0) \\, \\mathrm{d} x_0\n",
    "= \\pi(x_1)\n",
    "$$\n",
    "\n",
    "then $\\pi$ is a stationary distribution."
   ]
  },
  {
   "cell_type": "markdown",
   "metadata": {
    "slideshow": {
     "slide_type": "subslide"
    }
   },
   "source": [
    "## Limiting distributions\n",
    "\n",
    "Some MCs have a limiting distribution, that is, for all starting positions $x_0 \\in \\mathbb{R}$ as $n \\to \\infty$\n",
    "\n",
    "$$ (X_n \\mid X_0 = x_0) \\overset{\\mathcal{D}}{\\longrightarrow} \\, \\pi(\\,\\cdot\\,) .$$\n",
    "\n",
    "Written another way,\n",
    "\n",
    "$$ \\lim_{n \\to \\infty} f_{X_n \\mid X_0}(x \\mid x_0) = \\pi(x) .$$\n",
    "\n",
    "\n",
    "The limiting distribution $\\pi$ is the stationary distribution (at least, normally).\n",
    "\n",
    "So... if we want to simulate from $\\pi$, just start $X_0$ anywhere and run the MC for _a while_, then after $N \\approx \\infty$ steps we have\n",
    "\n",
    "$$ X_{N} \\overset{\\mathrm{approx.}}{\\sim} \\pi(\\,\\cdot\\,) \\quad\\Rightarrow\\quad X_{N+1} \\overset{\\mathrm{approx.}}{\\sim} \\pi(\\,\\cdot\\,) \\quad\\Rightarrow\\quad X_{N+2} \\overset{\\mathrm{approx.}}{\\sim} \\pi(\\,\\cdot\\,) \\dots$$"
   ]
  },
  {
   "cell_type": "markdown",
   "metadata": {
    "slideshow": {
     "slide_type": "slide"
    }
   },
   "source": [
    "## Why does this work? Why is this $\\alpha(X,Y)$ so special?\n",
    "\n",
    "The secret relates to the fact that $\\alpha$ makes the chain _reversible_.\n",
    "\n",
    "A Markov chain with transition probability $p(y \\mid x)$ is _reversible_ with respect to a density $g$ if\n",
    "\n",
    "$$ g(x) p(y \\mid x) = g(y) p(x \\mid y) $$\n",
    "\n",
    "for all $x,y \\in \\mathcal{S}$. These are called the _detailed balance equations_.\n",
    "\n",
    "This next part is a bit complicated:\n",
    "- Not every MC has a stationary distribution\n",
    "- For MC's which have a stationary distribution, not all are reversible w.r.t. their stationary distribution\n",
    "- __But__ for MC's which are reversible w.r.t. some distribution $g$, then $g$ must be a stationary distribution for the MC."
   ]
  },
  {
   "cell_type": "markdown",
   "metadata": {
    "slideshow": {
     "slide_type": "subslide"
    }
   },
   "source": [
    "## Proof that reversibility implies stationarity\n",
    "\n",
    "\n",
    "Want to show that if a MC is reversible w.r.t. some distribution $g$, i.e.\n",
    "\n",
    "$$ g(x) p(y \\mid x) = g(y) p(x \\mid y)$$\n",
    "\n",
    "then $g$ must be a stationary distribution for the MC, i.e. $X_0 \\sim g \\Rightarrow X_1 \\sim g$.\n",
    "\n",
    "__Proof:__\n",
    "\n",
    "$$\n",
    "\\begin{aligned}\n",
    "f_{X_1}(x_1)\n",
    "&= \\int_{x_0 \\in \\mathcal{S}} f_{X_0}(x_0) p(x_1 \\mid x_0) \\, \\mathrm{d} x_0\n",
    "= \\int_{x_0 \\in \\mathcal{S}} g(x_0) p(x_1 \\mid x_0) \\, \\mathrm{d} x_0 \\\\\n",
    "&= \\int_{x_0 \\in \\mathcal{S}} g(x_1) p(x_0 \\mid x_1) \\, \\mathrm{d} x_0\n",
    "= g(x_1) \\int_{x_0 \\in \\mathcal{S}} p(x_0 \\mid x_1) \\, \\mathrm{d} x_0\n",
    "= g(x_1) .\n",
    "\\end{aligned}\n",
    "$$"
   ]
  },
  {
   "cell_type": "markdown",
   "metadata": {
    "slideshow": {
     "slide_type": "subslide"
    }
   },
   "source": [
    "## In MCMC we want stationarity, so we enforce reversibility w.r.t. target $f_X$\n",
    "\n",
    "First, what is the transition kernel for the MCMC chain? Is it $q(y \\mid x)$? __No__.\n",
    "\n",
    "For $y\\not=x$ it is\n",
    "\n",
    "$$ p(y \\mid x) = q(y \\mid x) \\alpha(x, y) $$\n",
    "\n",
    "and if $y = x$ it is\n",
    "\n",
    "$$ p(y \\mid x) = \\int_\\mathcal{S} q(z \\mid x) [1 - \\alpha(x, z)] \\,\\mathrm{d}z $$\n",
    "\n",
    "However, proposing points using $q(y \\mid x)$ __does__ make the chain reversible w.r.t. the target density $f_X$."
   ]
  },
  {
   "cell_type": "markdown",
   "metadata": {
    "slideshow": {
     "slide_type": "subslide"
    }
   },
   "source": [
    "## Proof that $q(y \\mid x)$ makes the chain reversible w.r.t. the target density $f_X$\n",
    "\n",
    "Remember, for $x \\not= y$ we have $p(y \\mid x) = q(y \\mid x) \\alpha(x, y) $ and\n",
    "\n",
    "$$ \\alpha(x, y) = \\min\\bigl\\{  \\frac{ f_X(y) \\, q(x \\mid y) \n",
    "}{ f_X(x) \\, q(y \\mid x) } , 1 \\bigr\\} \\quad \\text{and} \\quad \\alpha(y, x) = \\min\\bigl\\{  \\frac{ f_X(x) \\, q(y \\mid x) \n",
    "}{ f_X(y) \\, q(x \\mid y) } , 1 \\bigr\\} . $$\n",
    "\n",
    "Do we have $ f_X(x) p(y \\mid x) = f_X(y) p(x \\mid y)$? If $x = y$, then obviously yes. For $x \\not=y$\n",
    "\n",
    "$$ \\begin{aligned}\n",
    "f_X(x) p(y \\mid x) \n",
    "&= f_X(x) q(y \\mid x) \\alpha(x, y) \\\\\n",
    "&= f_X(x) q(y \\mid x) \\min\\bigl\\{  \\frac{ f_X(y) \\, q(x \\mid y) \n",
    "}{ f_X(x) \\, q(y \\mid x) } , 1 \\bigr\\} \\\\\n",
    "&= \\min\\bigl\\{ f_X(y) \\, q(x \\mid y) \n",
    ", f_X(x) q(y \\mid x)  \\bigr\\} \\times \\frac{f_X(y) \\, q(x \\mid y) }{f_X(y) \\, q(x \\mid y) } \\\\\n",
    "&= f_X(y) \\, q(x \\mid y)  \\min\\bigl\\{ 1, \\frac{ f_X(x) q(y \\mid x) }{f_X(y) \\, q(x \\mid y) }  \\bigr\\}  \\\\\n",
    "&= f_X(y) \\, q(x \\mid y) \\, \\alpha(y, x) \\\\\n",
    "&= f_X(y) \\, p(x \\mid y) .\n",
    "\\end{aligned} $$"
   ]
  }
 ],
 "metadata": {
  "celltoolbar": "Slideshow",
  "kernelspec": {
   "display_name": "Python 3",
   "language": "python",
   "name": "python3"
  },
  "language_info": {
   "codemirror_mode": {
    "name": "ipython",
    "version": 3
   },
   "file_extension": ".py",
   "mimetype": "text/x-python",
   "name": "python",
   "nbconvert_exporter": "python",
   "pygments_lexer": "ipython3",
   "version": "3.6.7"
  },
  "rise": {
   "autolaunch": false,
   "enable_chalkboard": true
  }
 },
 "nbformat": 4,
 "nbformat_minor": 2
}
