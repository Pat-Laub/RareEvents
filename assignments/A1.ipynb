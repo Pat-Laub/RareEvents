{
 "cells": [
  {
   "cell_type": "markdown",
   "metadata": {},
   "source": [
    "## Rare-event simulation\n",
    "\n",
    "### Assignment 1\n",
    "\n",
    "Due: Wednesday, February 26, 1:30 pm\n",
    "\n",
    "Submission by email, send completed Jupyter notebook. "
   ]
  },
  {
   "cell_type": "code",
   "execution_count": null,
   "metadata": {},
   "outputs": [],
   "source": [
    "# numpy is the 'Numerical Python' package\n",
    "import numpy as np\n",
    "\n",
    "# Numpy's methods for pseudorandom number generation\n",
    "import numpy.random as rnd\n",
    "\n",
    "# scipy is the 'Scientific Python' package\n",
    "# We'll use the stats package to get some p.d.f.s & c.d.f.s\n",
    "from scipy import stats\n",
    "\n",
    "import matplotlib.pyplot as plt "
   ]
  },
  {
   "cell_type": "markdown",
   "metadata": {},
   "source": [
    "## Part 1: Random number generation"
   ]
  },
  {
   "cell_type": "markdown",
   "metadata": {},
   "source": [
    "1) Simulate $R=10^5$ $\\mathsf{Pareto}(10,100)$ random variables, where our definition of $\\mathsf{Pareto}(\\alpha, \\lambda)$ has the p.d.f. \n",
    "\n",
    "\n",
    "$$ f(x) = \\begin{cases} \n",
    "    \\frac{\\alpha}{\\lambda} \\bigl[ 1 + \\frac{x}{\\lambda} \\bigr]^{-(\\alpha+1)} & \\text{if } x > 0 \\\\\n",
    "    0 & \\text{otherwise.}\n",
    "\\end{cases} $$\n",
    "\n",
    "Plot a histogram of these points against this p.d.f., like in the lectures."
   ]
  },
  {
   "cell_type": "code",
   "execution_count": null,
   "metadata": {},
   "outputs": [],
   "source": [
    "rng = rnd.default_rng(1)\n",
    "R = 10**5\n",
    "α = 10.0\n",
    "λ = 100.0\n",
    "\n",
    "paretos = ..."
   ]
  },
  {
   "cell_type": "markdown",
   "metadata": {},
   "source": [
    "2) Simulate $R = 10^5$ $\\mathsf{LogNormal}(3,0.1)$ random variables, where our definition of $\\mathsf{LogNormal}(\\mu, \\sigma^2)$ has the p.d.f. \n",
    "\n",
    "\n",
    "$$ f(x) = \\begin{cases} \n",
    "    \\frac{1}{x \\sigma \\sqrt{2 \\pi} } \\exp\\bigl\\{ -\\frac{(\\log(x) - \\mu)^2 }{2 \\sigma^2} \\bigr\\} & \\text{if } x > 0 \\\\\n",
    "    0 & \\text{otherwise.}\n",
    "\\end{cases} $$\n",
    "\n",
    "Plot the histogram of your samples against p.d.f. above."
   ]
  },
  {
   "cell_type": "code",
   "execution_count": null,
   "metadata": {},
   "outputs": [],
   "source": [
    "R = 10**5\n",
    "μ = 3\n",
    "σ = np.sqrt(0.1)\n",
    "\n",
    "lognormals = ..."
   ]
  },
  {
   "cell_type": "markdown",
   "metadata": {},
   "source": [
    "3) Find $\\overline{\\mu}$, $\\overline{\\sigma}$ such that $X \\sim \\mathsf{LogNormal}(\\overline{\\mu}, \\overline{\\sigma}^2)$ has $\\mathbb{E}[X] = m$ and $\\mathbb{V}[X] = v$.\n",
    "\n",
    "Simulate $R = 10^5$ lognormal random variables from the $\\mathsf{LogNormal}(\\overline{\\mu}, \\overline{\\sigma}^2)$ where $m = 150$ and $v = 500$.\n",
    "\n",
    "Plot a histogram of the simulated points, and overlay a vertical line at $x = m = 150$ to check that the simulated points are near the desired mean. \n",
    "\n",
    "__For style points__: Find $\\overline{\\mu}$, $\\overline{\\sigma}$ using the `solve` function from the `sympy` 'symbolic python' package."
   ]
  },
  {
   "cell_type": "code",
   "execution_count": null,
   "metadata": {},
   "outputs": [],
   "source": [
    "R = 10**5\n",
    "m = 150\n",
    "v = 500\n",
    "\n",
    "lognormals = ..."
   ]
  },
  {
   "cell_type": "code",
   "execution_count": null,
   "metadata": {},
   "outputs": [],
   "source": [
    "print(\"Sample mean:\", lognormals.mean())\n",
    "print(\"Theoretical mean:\", m)\n",
    "assert np.isclose(lognormals.mean(), m, rtol=0.01)"
   ]
  },
  {
   "cell_type": "code",
   "execution_count": null,
   "metadata": {},
   "outputs": [],
   "source": [
    "print(\"Sample var:\", lognormals.var())\n",
    "print(\"Theoretical var:\", v)\n",
    "assert np.isclose(lognormals.var(), v, rtol=0.01)"
   ]
  },
  {
   "cell_type": "markdown",
   "metadata": {},
   "source": [
    "## Part 2: Crude Monte Carlo"
   ]
  },
  {
   "cell_type": "markdown",
   "metadata": {},
   "source": [
    "We model an insurer's risk reserve process $R_t$ as\n",
    "\n",
    "$$ R(t) = u + p t - \\sum_{i=1}^{N_t} U_i $$\n",
    "\n",
    "where $u \\ge 0$, $p > 0$, $N_t$ is a Poisson process with intensity $\\lambda$ and $U_i \\overset{\\mathrm{i.i.d.}}{\\sim} \\mathsf{Gamma}(r, m)$. \n",
    "\n",
    "The only possible times when the insurer's reserve can become negative is at the times $T_1, T_2, \\dots$ when the claims arrive. Define\n",
    "\n",
    "$$ R_i = R(T_i) , \\quad i = 1, 2, \\dots,$$\n",
    "\n",
    "which is reserve calculated at the time when the $i$-th claim arrives (and including this claim). "
   ]
  },
  {
   "cell_type": "markdown",
   "metadata": {},
   "source": [
    "1)  Estimate \n",
    "\n",
    "$$\\mathbb{P}(\\text{Ruin before } n \\text{-th arrival}) = \\mathbb{P}(\\min\\{R_1,\\dots,R_n\\} < 0)$$\n",
    "\n",
    "using crude Monte Carlo.\n",
    "\n",
    "N.B. With $T_0 \\equiv 0$, then we have $T_i - T_{i-1} \\overset{\\mathrm{i.i.d.}}{\\sim} \\mathsf{Exponential}(\\lambda)$ for $i=1,2,\\dots$\n",
    "\n",
    "Constants:"
   ]
  },
  {
   "cell_type": "code",
   "execution_count": null,
   "metadata": {},
   "outputs": [],
   "source": [
    "R = 10**6\n",
    "u = 1\n",
    "p = 0.30\n",
    "λ = 0.5\n",
    "n = 50\n",
    "r = 1\n",
    "m = 0.5\n",
    "\n",
    "..."
   ]
  },
  {
   "cell_type": "markdown",
   "metadata": {},
   "source": [
    "2) Conditioned on a bankruptcy event, what is the expected value of the reserve process (it will be negative)?"
   ]
  },
  {
   "cell_type": "code",
   "execution_count": null,
   "metadata": {
    "scrolled": true
   },
   "outputs": [],
   "source": [
    "..."
   ]
  },
  {
   "cell_type": "markdown",
   "metadata": {},
   "source": [
    "3) Conditioned on a bankruptcy event, when does it occur? Plot a histogram of the claim number which causes bankruptcy ($\\in \\mathbb{N}$). "
   ]
  },
  {
   "cell_type": "code",
   "execution_count": null,
   "metadata": {},
   "outputs": [],
   "source": []
  },
  {
   "cell_type": "markdown",
   "metadata": {},
   "source": [
    "## Part 3: Importance sampling"
   ]
  },
  {
   "cell_type": "markdown",
   "metadata": {},
   "source": [
    "1) Consider estimating $\\mathbb{P}(\\max\\{X_1, X_2\\} > 5)$ where $X_i \\overset{\\mathrm{i.i.d.}}{\\sim} \\mathsf{Exponential}(1)$. \n",
    "\n",
    "Use importance sampling, where each $X_i \\overset{\\mathrm{i.i.d.}}{\\sim} \\mathsf{Exponential}(\\lambda)$ for some $\\lambda \\in (0, 1)$.\n",
    "\n",
    "Do this where $\\lambda$ takes values in a grid of points between 0 and 1. Plot the IS estimates and the IS variances, like in the lecture slides (complete with horizontal line for the true value, and the vertical line at the minimal variance $\\lambda$)."
   ]
  },
  {
   "cell_type": "code",
   "execution_count": null,
   "metadata": {},
   "outputs": [],
   "source": [
    "R = 10**6\n",
    "λs = np.linspace(0.01, 1, 25)\n",
    "ellHats = np.zeros_like(λs)\n",
    "sigmaHats = np.zeros_like(λs)\n",
    "\n",
    "..."
   ]
  },
  {
   "cell_type": "markdown",
   "metadata": {},
   "source": [
    "2) Redo the financial example from the lecture (option pricing with the sum of correlated lognormals) but apply any importance sampling you like. Show the price estimate with a 95% confidence interval, but make sure your choice of importance distribution gives you a smaller confidence interval then crude Monte Carlo."
   ]
  },
  {
   "cell_type": "markdown",
   "metadata": {},
   "source": [
    "Here is a crude Monte Carlo estimate. Some of the problem specification constants may be changed (compare to the lecture), use these values. "
   ]
  },
  {
   "cell_type": "code",
   "execution_count": null,
   "metadata": {},
   "outputs": [],
   "source": [
    "# Problem constants\n",
    "n = 2\n",
    "r = 0.05\n",
    "T = 1\n",
    "K = 4\n",
    "ρ = -0.5\n",
    "σ2 = 1/10\n",
    "R = 10**6\n",
    "\n",
    "# Mean vector and covariance matrix\n",
    "μ = np.arange(1, n+1) / 10\n",
    "Σ = σ2 * ( (1-ρ) * np.eye(n) + ρ * np.ones(n) )\n",
    "\n",
    "# Simulating the index value at T\n",
    "rng = rnd.default_rng(1)\n",
    "normals = rng.multivariate_normal(μ, Σ, size=R)\n",
    "Xs = np.exp(normals)\n",
    "Ss = Xs.sum(axis=1)\n",
    "\n",
    "# Calculating the MC estimate and CIs\n",
    "ests = np.exp(-r*T) * np.maximum(Ss - K, 0)\n",
    "ellHatCMC = ests.mean()\n",
    "sigmaHatCMC = ests.std()\n",
    "widthCICMC = 1.96 * sigmaHatCMC / np.sqrt(R)\n",
    "\n",
    "print(f\"CMC option price: {ellHatCMC} (+- {widthCICMC}))\")\n",
    "print(f\"Fraction of simulated options which payed out: {np.mean(Ss - K > 0)}\")"
   ]
  },
  {
   "cell_type": "markdown",
   "metadata": {},
   "source": [
    "N.B. To calculate pdf of this original distribution at the points in some array `x` use `stats.multivariate_normal.pdf(x, μ, Σ)`"
   ]
  },
  {
   "cell_type": "code",
   "execution_count": null,
   "metadata": {},
   "outputs": [],
   "source": [
    "...\n",
    "\n",
    "\n",
    "print(f\"IS option price: {ellHat} (+- {widthCI}))\")"
   ]
  }
 ],
 "metadata": {
  "kernelspec": {
   "display_name": "Python [conda env:root] *",
   "language": "python",
   "name": "conda-root-py"
  },
  "language_info": {
   "codemirror_mode": {
    "name": "ipython",
    "version": 3
   },
   "file_extension": ".py",
   "mimetype": "text/x-python",
   "name": "python",
   "nbconvert_exporter": "python",
   "pygments_lexer": "ipython3",
   "version": "3.7.6"
  }
 },
 "nbformat": 4,
 "nbformat_minor": 4
}
