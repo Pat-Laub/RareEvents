{
 "cells": [
  {
   "cell_type": "markdown",
   "metadata": {},
   "source": [
    "## Simulating (pseudo-) random numbers in Python"
   ]
  },
  {
   "cell_type": "markdown",
   "metadata": {},
   "source": [
    "### Setup"
   ]
  },
  {
   "cell_type": "code",
   "execution_count": 1,
   "metadata": {},
   "outputs": [],
   "source": [
    "# numpy is the 'Numerical Python' package\n",
    "import numpy as np\n",
    "\n",
    "# Numpy's methods for pseudorandom number generation\n",
    "import numpy.random as rnd\n",
    "\n",
    "# scipy is the 'Scientific Python' package\n",
    "# We'll use this to get the gamma function\n",
    "from scipy.special import gamma"
   ]
  },
  {
   "cell_type": "code",
   "execution_count": 2,
   "metadata": {},
   "outputs": [
    {
     "name": "stdout",
     "output_type": "stream",
     "text": [
      "Python version: 3.7.6 | packaged by conda-forge | (default, Jan  7 2020, 21:00:34) [MSC v.1916 64 bit (AMD64)]\n",
      "Numpy version: 1.17.4\n"
     ]
    }
   ],
   "source": [
    "# Print out the versions of software I'm running\n",
    "import sys\n",
    "print(\"Python version:\", sys.version)\n",
    "print(\"Numpy version:\", np.__version__)"
   ]
  },
  {
   "cell_type": "code",
   "execution_count": 3,
   "metadata": {},
   "outputs": [],
   "source": [
    "# Reminder that we need a relatively new version of numpy to make\n",
    "# use of the latest pseudorandom number generation algorithms.\n",
    "if int(np.__version__.split('.')[1]) < 17:\n",
    "    raise RuntimeError(\"Need Numpy version >= 1.17\")    "
   ]
  },
  {
   "cell_type": "markdown",
   "metadata": {},
   "source": [
    "### Random numbers, seeds, accessing docs"
   ]
  },
  {
   "cell_type": "markdown",
   "metadata": {},
   "source": [
    "Create a _random number generator_ and call it `rng`. "
   ]
  },
  {
   "cell_type": "code",
   "execution_count": 4,
   "metadata": {},
   "outputs": [],
   "source": [
    "rng = rnd.default_rng()"
   ]
  },
  {
   "cell_type": "markdown",
   "metadata": {},
   "source": [
    "What kind of things can `rng` do? Let's look at the methods available to it using `dir` "
   ]
  },
  {
   "cell_type": "code",
   "execution_count": 5,
   "metadata": {},
   "outputs": [
    {
     "name": "stdout",
     "output_type": "stream",
     "text": [
      "['__class__', '__delattr__', '__dir__', '__doc__', '__eq__', '__format__', '__ge__', '__getattribute__', '__getstate__', '__gt__', '__hash__', '__init__', '__init_subclass__', '__le__', '__lt__', '__ne__', '__new__', '__pyx_vtable__', '__reduce__', '__reduce_ex__', '__repr__', '__setattr__', '__setstate__', '__sizeof__', '__str__', '__subclasshook__', '_bit_generator', '_poisson_lam_max', 'beta', 'binomial', 'bit_generator', 'bytes', 'chisquare', 'choice', 'dirichlet', 'exponential', 'f', 'gamma', 'geometric', 'gumbel', 'hypergeometric', 'integers', 'laplace', 'logistic', 'lognormal', 'logseries', 'multinomial', 'multivariate_normal', 'negative_binomial', 'noncentral_chisquare', 'noncentral_f', 'normal', 'pareto', 'permutation', 'poisson', 'power', 'random', 'rayleigh', 'shuffle', 'standard_cauchy', 'standard_exponential', 'standard_gamma', 'standard_normal', 'standard_t', 'triangular', 'uniform', 'vonmises', 'wald', 'weibull', 'zipf']\n"
     ]
    }
   ],
   "source": [
    "print(dir(rng))"
   ]
  },
  {
   "cell_type": "markdown",
   "metadata": {},
   "source": [
    "So it can simulate from a bunch of common distributions. That's nice. Let's try to generate a simulate standard uniform random variable:"
   ]
  },
  {
   "cell_type": "code",
   "execution_count": 6,
   "metadata": {},
   "outputs": [
    {
     "name": "stdout",
     "output_type": "stream",
     "text": [
      "0.78658288842436\n"
     ]
    }
   ],
   "source": [
    "print(rng.uniform())"
   ]
  },
  {
   "cell_type": "code",
   "execution_count": 7,
   "metadata": {},
   "outputs": [
    {
     "data": {
      "text/plain": [
       "0.29599899160720367"
      ]
     },
     "execution_count": 7,
     "metadata": {},
     "output_type": "execute_result"
    }
   ],
   "source": [
    "rng.uniform()"
   ]
  },
  {
   "cell_type": "markdown",
   "metadata": {},
   "source": [
    "Run that cell a few times, and you'll see it get different numbers."
   ]
  },
  {
   "cell_type": "markdown",
   "metadata": {},
   "source": [
    "Sometimes nice to have _same_ random numbers. To do that, we set the 'seed' to be any fixed number."
   ]
  },
  {
   "cell_type": "code",
   "execution_count": 8,
   "metadata": {},
   "outputs": [
    {
     "name": "stdout",
     "output_type": "stream",
     "text": [
      "First run\n",
      "------------------\n",
      "0.5118216247002567\n",
      "0.9504636963259353\n",
      "0.14415961271963373\n"
     ]
    }
   ],
   "source": [
    "print(\"First run\")\n",
    "print(18*\"-\")\n",
    "\n",
    "rng = rnd.default_rng(seed=1)\n",
    "print(rng.uniform())\n",
    "print(rng.uniform())\n",
    "print(rng.uniform())"
   ]
  },
  {
   "cell_type": "code",
   "execution_count": 9,
   "metadata": {},
   "outputs": [
    {
     "name": "stdout",
     "output_type": "stream",
     "text": [
      "Second run\n",
      "------------------\n",
      "0.5118216247002567\n",
      "0.9504636963259353\n",
      "0.14415961271963373\n"
     ]
    }
   ],
   "source": [
    "print(\"Second run\")\n",
    "print(18*\"-\")\n",
    "\n",
    "rng = rnd.default_rng(seed=1)\n",
    "print(rng.uniform())\n",
    "print(rng.uniform())\n",
    "print(rng.uniform())"
   ]
  },
  {
   "cell_type": "markdown",
   "metadata": {},
   "source": [
    "Using `rng = rnd.default_rng()` and `rng.uniform()` is a pretty modern ($\\ge$ July 26, 2019). The old way was to run `np.random.uniform()` and the RNG was hidden away. Proper nerds (or those with trouble sleeping) can [take a look](https://numpy.org/neps/nep-0019-rng-policy.html) at why the numpy developers moved away from this."
   ]
  },
  {
   "cell_type": "code",
   "execution_count": 10,
   "metadata": {},
   "outputs": [
    {
     "name": "stdout",
     "output_type": "stream",
     "text": [
      "0.417022004702574\n",
      "0.417022004702574\n"
     ]
    }
   ],
   "source": [
    "np.random.seed(1)\n",
    "print(np.random.uniform())\n",
    "\n",
    "np.random.seed(1)\n",
    "print(np.random.uniform())"
   ]
  },
  {
   "cell_type": "markdown",
   "metadata": {},
   "source": [
    "Say we want to generate some other uniform variable, like $\\mathsf{Unif}(a,b)$ with p.d.f.\n",
    "\n",
    "$$ f(x) = \\begin{cases} \n",
    "        \\frac{1}{b-a} & \\text{if } a \\le x < b \\\\\n",
    "        0 & \\text{otherwise.}\n",
    "       \\end{cases}\n",
    "$$\n",
    "\n",
    "Let's use `help` to look at the documentation for the `uniform` method to see if this is builtin."
   ]
  },
  {
   "cell_type": "code",
   "execution_count": 11,
   "metadata": {},
   "outputs": [
    {
     "name": "stdout",
     "output_type": "stream",
     "text": [
      "Help on built-in function uniform:\n",
      "\n",
      "uniform(...) method of numpy.random.generator.Generator instance\n",
      "    uniform(low=0.0, high=1.0, size=None)\n",
      "    \n",
      "    Draw samples from a uniform distribution.\n",
      "    \n",
      "    Samples are uniformly distributed over the half-open interval\n",
      "    ``[low, high)`` (includes low, but excludes high).  In other words,\n",
      "    any value within the given interval is equally likely to be drawn\n",
      "    by `uniform`.\n",
      "    \n",
      "    Parameters\n",
      "    ----------\n",
      "    low : float or array_like of floats, optional\n",
      "        Lower boundary of the output interval.  All values generated will be\n",
      "        greater than or equal to low.  The default value is 0.\n",
      "    high : float or array_like of floats\n",
      "        Upper boundary of the output interval.  All values generated will be\n",
      "        less than high.  The default value is 1.0.\n",
      "    size : int or tuple of ints, optional\n",
      "        Output shape.  If the given shape is, e.g., ``(m, n, k)``, then\n",
      "        ``m * n * k`` samples are drawn.  If size is ``None`` (default),\n",
      "        a single value is returned if ``low`` and ``high`` are both scalars.\n",
      "        Otherwise, ``np.broadcast(low, high).size`` samples are drawn.\n",
      "    \n",
      "    Returns\n",
      "    -------\n",
      "    out : ndarray or scalar\n",
      "        Drawn samples from the parameterized uniform distribution.\n",
      "    \n",
      "    See Also\n",
      "    --------\n",
      "    integers : Discrete uniform distribution, yielding integers.\n",
      "    random : Floats uniformly distributed over ``[0, 1)``.\n",
      "    random : Alias for `random`.\n",
      "    \n",
      "    Notes\n",
      "    -----\n",
      "    The probability density function of the uniform distribution is\n",
      "    \n",
      "    .. math:: p(x) = \\frac{1}{b - a}\n",
      "    \n",
      "    anywhere within the interval ``[a, b)``, and zero elsewhere.\n",
      "    \n",
      "    When ``high`` == ``low``, values of ``low`` will be returned.\n",
      "    If ``high`` < ``low``, the results are officially undefined\n",
      "    and may eventually raise an error, i.e. do not rely on this\n",
      "    function to behave when passed arguments satisfying that\n",
      "    inequality condition.\n",
      "    \n",
      "    Examples\n",
      "    --------\n",
      "    Draw samples from the distribution:\n",
      "    \n",
      "    >>> s = np.random.default_rng().uniform(-1,0,1000)\n",
      "    \n",
      "    All values are within the given interval:\n",
      "    \n",
      "    >>> np.all(s >= -1)\n",
      "    True\n",
      "    >>> np.all(s < 0)\n",
      "    True\n",
      "    \n",
      "    Display the histogram of the samples, along with the\n",
      "    probability density function:\n",
      "    \n",
      "    >>> import matplotlib.pyplot as plt\n",
      "    >>> count, bins, ignored = plt.hist(s, 15, density=True)\n",
      "    >>> plt.plot(bins, np.ones_like(bins), linewidth=2, color='r')\n",
      "    >>> plt.show()\n",
      "\n"
     ]
    }
   ],
   "source": [
    "help(rng.uniform)"
   ]
  },
  {
   "cell_type": "markdown",
   "metadata": {},
   "source": [
    "So, let's simulate from $\\mathsf{Unif}(-10,10)$."
   ]
  },
  {
   "cell_type": "code",
   "execution_count": 12,
   "metadata": {},
   "outputs": [
    {
     "data": {
      "text/plain": [
       "8.972988942744877"
      ]
     },
     "execution_count": 12,
     "metadata": {},
     "output_type": "execute_result"
    }
   ],
   "source": [
    "rng.uniform(low=-10, high=10)"
   ]
  },
  {
   "cell_type": "markdown",
   "metadata": {},
   "source": [
    "The `uniform` method has the optional arguments `low`, `high`, and `size`. If we simply use them in this order, we don't need to write `low=` and `high=`, but can directly write:"
   ]
  },
  {
   "cell_type": "code",
   "execution_count": 13,
   "metadata": {},
   "outputs": [
    {
     "data": {
      "text/plain": [
       "-3.763370959790291"
      ]
     },
     "execution_count": 13,
     "metadata": {},
     "output_type": "execute_result"
    }
   ],
   "source": [
    "rng.uniform(-10, 10)"
   ]
  },
  {
   "cell_type": "markdown",
   "metadata": {},
   "source": [
    "You can use you own judgement on whether to include the names of the arguments or omit them."
   ]
  },
  {
   "cell_type": "markdown",
   "metadata": {},
   "source": [
    "We can simulate many uniforms at the same time and the result will be an array filled with i.i.d. variables."
   ]
  },
  {
   "cell_type": "code",
   "execution_count": 14,
   "metadata": {},
   "outputs": [
    {
     "data": {
      "text/plain": [
       "array([-1.53347102,  6.55405188, -1.81601727,  0.99187375, -9.44881774])"
      ]
     },
     "execution_count": 14,
     "metadata": {},
     "output_type": "execute_result"
    }
   ],
   "source": [
    "rng.uniform(-10, 10, size=5)"
   ]
  },
  {
   "cell_type": "markdown",
   "metadata": {},
   "source": [
    "Let's simulate a large number of uniforms, and compare some of empirical quantities against the theoretical quantities."
   ]
  },
  {
   "cell_type": "code",
   "execution_count": 15,
   "metadata": {},
   "outputs": [
    {
     "name": "stdout",
     "output_type": "stream",
     "text": [
      "12\n"
     ]
    }
   ],
   "source": [
    "# The number of random variables to simulate.\n",
    "R = 10^6\n",
    "print(R)"
   ]
  },
  {
   "cell_type": "code",
   "execution_count": 16,
   "metadata": {},
   "outputs": [
    {
     "name": "stdout",
     "output_type": "stream",
     "text": [
      "1000000\n"
     ]
    }
   ],
   "source": [
    "# The number of random variables to simulate.\n",
    "R = 10**6\n",
    "print(R)"
   ]
  },
  {
   "cell_type": "code",
   "execution_count": 17,
   "metadata": {},
   "outputs": [],
   "source": [
    "# Simulate a bunch of i.i.d. uniform variables\n",
    "uniforms = rng.uniform(-10, 10, R)"
   ]
  },
  {
   "cell_type": "code",
   "execution_count": 18,
   "metadata": {},
   "outputs": [
    {
     "name": "stdout",
     "output_type": "stream",
     "text": [
      "Sample mean: -0.0004428776080335241\n",
      "Theoretical mean: 0.0\n"
     ]
    }
   ],
   "source": [
    "# Print the sample mean of these observations and the theoretical mean for this distribution\n",
    "print(\"Sample mean:\", uniforms.mean())\n",
    "print(\"Theoretical mean:\", (-10 + 10) / 2)"
   ]
  },
  {
   "cell_type": "code",
   "execution_count": 19,
   "metadata": {},
   "outputs": [
    {
     "name": "stdout",
     "output_type": "stream",
     "text": [
      "Sample variance: 33.34011458681296\n",
      "Theoretical variance: 33.333333333333336\n"
     ]
    }
   ],
   "source": [
    "# Print the sample variance of these observations and the theoretical variance for this distribution\n",
    "print(\"Sample variance:\", uniforms.var())\n",
    "print(\"Theoretical variance:\", (10 - -10)**2 / 12)"
   ]
  },
  {
   "cell_type": "markdown",
   "metadata": {},
   "source": [
    "It certainly looks like we correctly simulated from the desired/target distribution; well, at the very least, we simulated from some distribution which has the same mean and variance as our target distribution."
   ]
  },
  {
   "cell_type": "markdown",
   "metadata": {},
   "source": [
    "Let's try to simulate from a slightly more complication distribution, the exponential distribution. I'll define $\\mathsf{Exp}(\\lambda)$ to have p.d.f.\n",
    "\n",
    "$$ f(x) = \\begin{cases} \n",
    "    \\lambda \\mathrm{e}^{-\\lambda x} & \\text{if } x > 0 \\\\\n",
    "    0 & \\text{otherwise.}\n",
    "\\end{cases} $$\n",
    "\n",
    "There is a `rng.exponential` method, though we should call `help` on it to find out how to give it a specific rate $\\lambda$."
   ]
  },
  {
   "cell_type": "code",
   "execution_count": 20,
   "metadata": {},
   "outputs": [
    {
     "name": "stdout",
     "output_type": "stream",
     "text": [
      "Help on built-in function exponential:\n",
      "\n",
      "exponential(...) method of numpy.random.generator.Generator instance\n",
      "    exponential(scale=1.0, size=None)\n",
      "    \n",
      "    Draw samples from an exponential distribution.\n",
      "    \n",
      "    Its probability density function is\n",
      "    \n",
      "    .. math:: f(x; \\frac{1}{\\beta}) = \\frac{1}{\\beta} \\exp(-\\frac{x}{\\beta}),\n",
      "    \n",
      "    for ``x > 0`` and 0 elsewhere. :math:`\\beta` is the scale parameter,\n",
      "    which is the inverse of the rate parameter :math:`\\lambda = 1/\\beta`.\n",
      "    The rate parameter is an alternative, widely used parameterization\n",
      "    of the exponential distribution [3]_.\n",
      "    \n",
      "    The exponential distribution is a continuous analogue of the\n",
      "    geometric distribution.  It describes many common situations, such as\n",
      "    the size of raindrops measured over many rainstorms [1]_, or the time\n",
      "    between page requests to Wikipedia [2]_.\n",
      "    \n",
      "    Parameters\n",
      "    ----------\n",
      "    scale : float or array_like of floats\n",
      "        The scale parameter, :math:`\\beta = 1/\\lambda`. Must be\n",
      "        non-negative.\n",
      "    size : int or tuple of ints, optional\n",
      "        Output shape.  If the given shape is, e.g., ``(m, n, k)``, then\n",
      "        ``m * n * k`` samples are drawn.  If size is ``None`` (default),\n",
      "        a single value is returned if ``scale`` is a scalar.  Otherwise,\n",
      "        ``np.array(scale).size`` samples are drawn.\n",
      "    \n",
      "    Returns\n",
      "    -------\n",
      "    out : ndarray or scalar\n",
      "        Drawn samples from the parameterized exponential distribution.\n",
      "    \n",
      "    References\n",
      "    ----------\n",
      "    .. [1] Peyton Z. Peebles Jr., \"Probability, Random Variables and\n",
      "           Random Signal Principles\", 4th ed, 2001, p. 57.\n",
      "    .. [2] Wikipedia, \"Poisson process\",\n",
      "           https://en.wikipedia.org/wiki/Poisson_process\n",
      "    .. [3] Wikipedia, \"Exponential distribution\",\n",
      "           https://en.wikipedia.org/wiki/Exponential_distribution\n",
      "\n"
     ]
    }
   ],
   "source": [
    "help(rng.exponential)"
   ]
  },
  {
   "cell_type": "markdown",
   "metadata": {},
   "source": [
    "So, this one only takes a scale parameter, so we'll have to set the scale to be $1/\\lambda$. Let's try simulate from the $\\mathsf{Exp}(5)$ distribution."
   ]
  },
  {
   "cell_type": "code",
   "execution_count": 21,
   "metadata": {},
   "outputs": [
    {
     "data": {
      "text/plain": [
       "0.3757960365292656"
      ]
     },
     "execution_count": 21,
     "metadata": {},
     "output_type": "execute_result"
    }
   ],
   "source": [
    "λ = 5\n",
    "rng.exponential(scale=1/λ)"
   ]
  },
  {
   "cell_type": "markdown",
   "metadata": {},
   "source": [
    "_Fun fact: To get $\\lambda$ as a variable name, just type `\\lambda` then hit TAB. Try `\\sigma` and some others._\n",
    "\n",
    "_Fun fact 2: Can use `sigma` as a variable name, but not `lambda` as it has special significance in Python (for \"lambda functions\" = \"anonymous functions\")._"
   ]
  },
  {
   "cell_type": "markdown",
   "metadata": {},
   "source": [
    "Let's simulate a bunch of i.i.d. exponentials and check that their sample mean matches the theoretical value of $0.2=1/5$."
   ]
  },
  {
   "cell_type": "code",
   "execution_count": 22,
   "metadata": {},
   "outputs": [],
   "source": [
    "exponentials = rng.exponential(1/λ, R)"
   ]
  },
  {
   "cell_type": "code",
   "execution_count": 23,
   "metadata": {},
   "outputs": [
    {
     "name": "stdout",
     "output_type": "stream",
     "text": [
      "Sample mean: 0.20022323810176906\n",
      "Theoretical mean: 0.2\n"
     ]
    }
   ],
   "source": [
    "print(\"Sample mean:\", exponentials.mean())\n",
    "print(\"Theoretical mean:\", 1/λ)"
   ]
  },
  {
   "cell_type": "markdown",
   "metadata": {},
   "source": [
    "The `exponential` function just specifies a `scale` argument, but sometimes the distribution we want to simulate from won't offer us this. There's an easy workaround though, just simulate from the default/unscaled  distribution and multiply all the variables by our scale value. E.g. to simulate from the same exponential distrbution this way:"
   ]
  },
  {
   "cell_type": "code",
   "execution_count": 24,
   "metadata": {
    "scrolled": true
   },
   "outputs": [
    {
     "name": "stdout",
     "output_type": "stream",
     "text": [
      "Sample mean: 0.2000826239295432\n",
      "Theoretical mean: 0.2\n"
     ]
    }
   ],
   "source": [
    "exponentials = (1/λ) * rng.exponential(size=R)\n",
    "print(\"Sample mean:\", exponentials.mean())\n",
    "print(\"Theoretical mean:\", 1/λ)"
   ]
  },
  {
   "cell_type": "markdown",
   "metadata": {},
   "source": [
    "### Basic plotting"
   ]
  },
  {
   "cell_type": "code",
   "execution_count": 25,
   "metadata": {},
   "outputs": [],
   "source": [
    "# Import the plotting library matplotlib\n",
    "import matplotlib.pyplot as plt"
   ]
  },
  {
   "cell_type": "code",
   "execution_count": 26,
   "metadata": {},
   "outputs": [
    {
     "data": {
      "text/plain": [
       "(array([7.26228e+05, 1.98673e+05, 5.44270e+04, 1.48950e+04, 4.22500e+03,\n",
       "        1.12700e+03, 3.18000e+02, 6.80000e+01, 3.10000e+01, 8.00000e+00]),\n",
       " array([1.65267759e-07, 2.59168929e-01, 5.18337693e-01, 7.77506457e-01,\n",
       "        1.03667522e+00, 1.29584398e+00, 1.55501275e+00, 1.81418151e+00,\n",
       "        2.07335028e+00, 2.33251904e+00, 2.59168780e+00]),\n",
       " <a list of 10 Patch objects>)"
      ]
     },
     "execution_count": 26,
     "metadata": {},
     "output_type": "execute_result"
    },
    {
     "data": {
      "image/png": "[encoded data removed]",
      "text/plain": [
       "<Figure size 432x288 with 1 Axes>"
      ]
     },
     "metadata": {
      "needs_background": "light"
     },
     "output_type": "display_data"
    }
   ],
   "source": [
    "plt.hist(exponentials)"
   ]
  },
  {
   "cell_type": "code",
   "execution_count": 27,
   "metadata": {},
   "outputs": [
    {
     "data": {
      "image/png": "[encoded data removed]",
      "text/plain": [
       "<Figure size 432x288 with 1 Axes>"
      ]
     },
     "metadata": {
      "needs_background": "light"
     },
     "output_type": "display_data"
    }
   ],
   "source": [
    "plt.hist(exponentials, bins=100, density=True);"
   ]
  },
  {
   "cell_type": "code",
   "execution_count": 28,
   "metadata": {},
   "outputs": [],
   "source": [
    "%config InlineBackend.figure_format = 'retina'"
   ]
  },
  {
   "cell_type": "code",
   "execution_count": 29,
   "metadata": {},
   "outputs": [
    {
     "data": {
      "image/png": "[encoded data removed]",
      "text/plain": [
       "<Figure size 432x288 with 1 Axes>"
      ]
     },
     "metadata": {
      "image/png": {
       "height": 248,
       "width": 362
      },
      "needs_background": "light"
     },
     "output_type": "display_data"
    }
   ],
   "source": [
    "plt.hist(exponentials, bins=100, density=True);"
   ]
  },
  {
   "cell_type": "code",
   "execution_count": 30,
   "metadata": {},
   "outputs": [
    {
     "data": {
      "image/png": "[encoded data removed]",
      "text/plain": [
       "<Figure size 432x288 with 1 Axes>"
      ]
     },
     "metadata": {
      "image/png": {
       "height": 248,
       "width": 362
      },
      "needs_background": "light"
     },
     "output_type": "display_data"
    }
   ],
   "source": [
    "x = np.linspace(0, 2.5, 500)\n",
    "pdf = λ * np.exp(-λ*x)\n",
    "plt.plot(x, pdf);"
   ]
  },
  {
   "cell_type": "code",
   "execution_count": 31,
   "metadata": {},
   "outputs": [
    {
     "data": {
      "image/png": "[encoded data removed]",
      "text/plain": [
       "<Figure size 432x288 with 1 Axes>"
      ]
     },
     "metadata": {
      "image/png": {
       "height": 248,
       "width": 362
      },
      "needs_background": "light"
     },
     "output_type": "display_data"
    }
   ],
   "source": [
    "plt.hist(exponentials, bins=100, density=True);\n",
    "plt.plot(x, pdf); # Or plt.plot(x, pdf, 'r');"
   ]
  },
  {
   "cell_type": "markdown",
   "metadata": {},
   "source": [
    "Try again with $R = 10^5$ $\\mathsf{Gamma}(2,3)$ random variables, where our definition of $\\mathsf{Gamma}(r,m)$ has the p.d.f. \n",
    "\n",
    "\n",
    "$$ f(x) = \\begin{cases} \n",
    "    \\frac{x^{r-1} \\mathrm{e}^{-\\frac{x}{m}}}{\\Gamma(r) m^r}   & \\text{if } x > 0 \\\\\n",
    "    0 & \\text{otherwise.}\n",
    "\\end{cases} $$\n",
    "\n"
   ]
  },
  {
   "cell_type": "code",
   "execution_count": 32,
   "metadata": {},
   "outputs": [],
   "source": [
    "R = 10**5\n",
    "r = 2\n",
    "m = 3\n",
    "gammas = rng.gamma(r, m, R)"
   ]
  },
  {
   "cell_type": "code",
   "execution_count": 33,
   "metadata": {},
   "outputs": [
    {
     "data": {
      "image/png": "[encoded data removed]",
      "text/plain": [
       "<Figure size 432x288 with 1 Axes>"
      ]
     },
     "metadata": {
      "image/png": {
       "height": 248,
       "width": 378
      },
      "needs_background": "light"
     },
     "output_type": "display_data"
    }
   ],
   "source": [
    "x = np.linspace(0, 40, 500)\n",
    "pdf = (x**(r-1) * np.exp(-x/m)) / (gamma(r) * m**r)\n",
    "\n",
    "plt.hist(gammas, bins=100, density=True)\n",
    "plt.plot(x, pdf);"
   ]
  },
  {
   "cell_type": "code",
   "execution_count": 34,
   "metadata": {},
   "outputs": [],
   "source": [
    "R = 10**4\n",
    "\n",
    "# Mean vector and covariance matrix\n",
    "n = 2\n",
    "μ = (1, 2)\n",
    "σ2 = 2\n",
    "ρ = 0.8\n",
    "Σ = σ2 * ( (1-ρ) * np.eye(n) + ρ * np.ones(n) )\n",
    "\n",
    "# Simulating the index value at T\n",
    "rng = rnd.default_rng()\n",
    "normals = rng.multivariate_normal(μ, Σ, size=R)"
   ]
  },
  {
   "cell_type": "code",
   "execution_count": 35,
   "metadata": {},
   "outputs": [
    {
     "data": {
      "text/html": [
       "<div>\n",
       "<style scoped>\n",
       "    .dataframe tbody tr th:only-of-type {\n",
       "        vertical-align: middle;\n",
       "    }\n",
       "\n",
       "    .dataframe tbody tr th {\n",
       "        vertical-align: top;\n",
       "    }\n",
       "\n",
       "    .dataframe thead th {\n",
       "        text-align: right;\n",
       "    }\n",
       "</style>\n",
       "<table border=\"1\" class=\"dataframe\">\n",
       "  <thead>\n",
       "    <tr style=\"text-align: right;\">\n",
       "      <th></th>\n",
       "      <th>x</th>\n",
       "      <th>y</th>\n",
       "    </tr>\n",
       "  </thead>\n",
       "  <tbody>\n",
       "    <tr>\n",
       "      <th>0</th>\n",
       "      <td>-0.228046</td>\n",
       "      <td>1.382743</td>\n",
       "    </tr>\n",
       "    <tr>\n",
       "      <th>1</th>\n",
       "      <td>0.351114</td>\n",
       "      <td>1.827377</td>\n",
       "    </tr>\n",
       "    <tr>\n",
       "      <th>2</th>\n",
       "      <td>1.752873</td>\n",
       "      <td>3.419312</td>\n",
       "    </tr>\n",
       "    <tr>\n",
       "      <th>3</th>\n",
       "      <td>4.276756</td>\n",
       "      <td>5.734045</td>\n",
       "    </tr>\n",
       "    <tr>\n",
       "      <th>4</th>\n",
       "      <td>2.827853</td>\n",
       "      <td>4.172706</td>\n",
       "    </tr>\n",
       "    <tr>\n",
       "      <th>...</th>\n",
       "      <td>...</td>\n",
       "      <td>...</td>\n",
       "    </tr>\n",
       "    <tr>\n",
       "      <th>9995</th>\n",
       "      <td>-2.081927</td>\n",
       "      <td>-0.750787</td>\n",
       "    </tr>\n",
       "    <tr>\n",
       "      <th>9996</th>\n",
       "      <td>2.892714</td>\n",
       "      <td>2.892638</td>\n",
       "    </tr>\n",
       "    <tr>\n",
       "      <th>9997</th>\n",
       "      <td>1.445032</td>\n",
       "      <td>2.041335</td>\n",
       "    </tr>\n",
       "    <tr>\n",
       "      <th>9998</th>\n",
       "      <td>1.598780</td>\n",
       "      <td>2.429420</td>\n",
       "    </tr>\n",
       "    <tr>\n",
       "      <th>9999</th>\n",
       "      <td>2.232821</td>\n",
       "      <td>2.760091</td>\n",
       "    </tr>\n",
       "  </tbody>\n",
       "</table>\n",
       "<p>10000 rows × 2 columns</p>\n",
       "</div>"
      ],
      "text/plain": [
       "             x         y\n",
       "0    -0.228046  1.382743\n",
       "1     0.351114  1.827377\n",
       "2     1.752873  3.419312\n",
       "3     4.276756  5.734045\n",
       "4     2.827853  4.172706\n",
       "...        ...       ...\n",
       "9995 -2.081927 -0.750787\n",
       "9996  2.892714  2.892638\n",
       "9997  1.445032  2.041335\n",
       "9998  1.598780  2.429420\n",
       "9999  2.232821  2.760091\n",
       "\n",
       "[10000 rows x 2 columns]"
      ]
     },
     "execution_count": 35,
     "metadata": {},
     "output_type": "execute_result"
    }
   ],
   "source": [
    "import pandas as pd\n",
    "\n",
    "df = pd.DataFrame(normals, columns=[\"x\", \"y\"])\n",
    "df"
   ]
  },
  {
   "cell_type": "code",
   "execution_count": 36,
   "metadata": {},
   "outputs": [
    {
     "data": {
      "image/png": "[encoded data removed]",
      "text/plain": [
       "<Figure size 432x432 with 3 Axes>"
      ]
     },
     "metadata": {
      "image/png": {
       "height": 423,
       "width": 423
      },
      "needs_background": "light"
     },
     "output_type": "display_data"
    }
   ],
   "source": [
    "import seaborn as sns\n",
    "\n",
    "sns.jointplot(x=\"x\", y=\"y\", data=df);"
   ]
  },
  {
   "cell_type": "code",
   "execution_count": 37,
   "metadata": {
    "scrolled": false
   },
   "outputs": [
    {
     "data": {
      "image/png": "[encoded data removed]",
      "text/plain": [
       "<Figure size 432x432 with 3 Axes>"
      ]
     },
     "metadata": {
      "image/png": {
       "height": 423,
       "width": 423
      },
      "needs_background": "light"
     },
     "output_type": "display_data"
    }
   ],
   "source": [
    "sns.jointplot(x=\"x\", y=\"y\", data=df);"
   ]
  },
  {
   "cell_type": "code",
   "execution_count": 38,
   "metadata": {
    "scrolled": true
   },
   "outputs": [
    {
     "data": {
      "image/png": "[encoded data removed]",
      "text/plain": [
       "<Figure size 432x432 with 3 Axes>"
      ]
     },
     "metadata": {
      "image/png": {
       "height": 423,
       "width": 423
      },
      "needs_background": "light"
     },
     "output_type": "display_data"
    }
   ],
   "source": [
    "sns.jointplot(x=\"x\", y=\"y\", data=df, kind=\"kde\");"
   ]
  },
  {
   "cell_type": "markdown",
   "metadata": {},
   "source": [
    "### Crude Monte Carlo"
   ]
  },
  {
   "cell_type": "markdown",
   "metadata": {},
   "source": [
    "Say that an insurer has $n = 10$ claims each month, and each claim size is $X_i \\overset{\\mathrm{i.i.d.}}{\\sim} \\mathsf{Pareto}(\\alpha=\\frac32)$. The reinsurer will cover the excess of $S_n = \\sum_{i=1}^n X_i$ over the threshold $\\gamma = 10^2$. "
   ]
  },
  {
   "cell_type": "markdown",
   "metadata": {},
   "source": [
    "What is the probability of reinsurer having to payout?"
   ]
  },
  {
   "cell_type": "code",
   "execution_count": 39,
   "metadata": {},
   "outputs": [],
   "source": [
    "n = 10\n",
    "α = 3/2\n",
    "γ = 10**2\n",
    "R = 10**6"
   ]
  },
  {
   "cell_type": "code",
   "execution_count": 40,
   "metadata": {},
   "outputs": [
    {
     "name": "stdout",
     "output_type": "stream",
     "text": [
      "Probability of reinsurer paying out: 0.013021\n",
      "Wall time: 7.31 s\n"
     ]
    }
   ],
   "source": [
    "%%time\n",
    "\n",
    "rng = rnd.default_rng(1)\n",
    "numPayouts = 0\n",
    "\n",
    "for r in range(R):\n",
    "    S_n = rng.pareto(α, size=n).sum()\n",
    "    if S_n > γ:\n",
    "        numPayouts += 1\n",
    "    \n",
    "print(\"Probability of reinsurer paying out:\", numPayouts / R)"
   ]
  },
  {
   "cell_type": "markdown",
   "metadata": {},
   "source": [
    "This last cell is quite clunky and slow; please never write code like that. The preferred way is the vectorised code below. Firstly note that if we give a list to the `size=` parameter (actually we use an immutable list called a 'tuple') it returns a matrix of i.i.d. Paretos:"
   ]
  },
  {
   "cell_type": "code",
   "execution_count": 41,
   "metadata": {},
   "outputs": [
    {
     "data": {
      "text/plain": [
       "array([[1.10960099, 0.77188112],\n",
       "       [0.18992703, 1.286972  ]])"
      ]
     },
     "execution_count": 41,
     "metadata": {},
     "output_type": "execute_result"
    }
   ],
   "source": [
    "rng.pareto(α, size=(2,2))"
   ]
  },
  {
   "cell_type": "markdown",
   "metadata": {},
   "source": [
    "Now if we generate all the Pareto variable we need at once, everything is more efficient."
   ]
  },
  {
   "cell_type": "code",
   "execution_count": 42,
   "metadata": {},
   "outputs": [
    {
     "name": "stdout",
     "output_type": "stream",
     "text": [
      "Probability of reinsurer paying out: 0.013021\n",
      "Wall time: 360 ms\n"
     ]
    }
   ],
   "source": [
    "%%time\n",
    "\n",
    "rng = rnd.default_rng(1)\n",
    "losses = rng.pareto(α, size=(R,n)).sum(axis=1)\n",
    "\n",
    "ests = losses > γ\n",
    "ellHat = ests.mean()\n",
    "\n",
    "print(\"Probability of reinsurer paying out:\", ellHat)"
   ]
  },
  {
   "cell_type": "code",
   "execution_count": 43,
   "metadata": {
    "scrolled": true
   },
   "outputs": [
    {
     "data": {
      "image/png": "[encoded data removed]",
      "text/plain": [
       "<Figure size 432x288 with 1 Axes>"
      ]
     },
     "metadata": {
      "image/png": {
       "height": 248,
       "width": 378
      },
      "needs_background": "light"
     },
     "output_type": "display_data"
    }
   ],
   "source": [
    "plt.hist(losses[losses < 1.5*γ], bins=100, density=True)\n",
    "plt.axvline(γ, color=\"black\", linestyle=\"dashed\");"
   ]
  },
  {
   "cell_type": "code",
   "execution_count": 44,
   "metadata": {},
   "outputs": [
    {
     "name": "stdout",
     "output_type": "stream",
     "text": [
      "Probability of reinsurer paying out: 0.013021 (+- 0.000222))\n"
     ]
    }
   ],
   "source": [
    "sigmaHat = ests.std()\n",
    "widthCI = 1.96 * sigmaHat / np.sqrt(R)\n",
    "CIs = (ellHat - widthCI, ellHat + widthCI)\n",
    "print(f\"Probability of reinsurer paying out: {ellHat} (+- {widthCI:f}))\")"
   ]
  },
  {
   "cell_type": "markdown",
   "metadata": {},
   "source": [
    "_Bonus question: Can compare to [series expansion](http://docs.isfa.fr/labo/2012.16.pdf) by ISFA's Quang Huy NGUYEN & Christian ROBERT._"
   ]
  },
  {
   "cell_type": "markdown",
   "metadata": {},
   "source": [
    "How much is the reinsurer paying out on average?"
   ]
  },
  {
   "cell_type": "code",
   "execution_count": 45,
   "metadata": {},
   "outputs": [
    {
     "data": {
      "text/plain": [
       "2.5494052977235837"
      ]
     },
     "execution_count": 45,
     "metadata": {},
     "output_type": "execute_result"
    }
   ],
   "source": [
    "rng = rnd.default_rng(1)\n",
    "losses = rng.pareto(α, size=(R,n)).sum(axis=1)\n",
    "payouts = np.maximum(losses - γ, 0)\n",
    "\n",
    "np.mean(payouts)"
   ]
  },
  {
   "cell_type": "markdown",
   "metadata": {},
   "source": [
    "__Note__: We can't calculate confidence intervals here using the normal approach. We're in the unlucky case that our variables have infinite variance and the CLT doesn't apply."
   ]
  },
  {
   "cell_type": "markdown",
   "metadata": {},
   "source": [
    "What is the expected payout for the of reinsurer conditioned on the event of a payout?"
   ]
  },
  {
   "cell_type": "code",
   "execution_count": 46,
   "metadata": {},
   "outputs": [
    {
     "data": {
      "text/plain": [
       "195.79182072986583"
      ]
     },
     "execution_count": 46,
     "metadata": {},
     "output_type": "execute_result"
    }
   ],
   "source": [
    "rng = rnd.default_rng(1)\n",
    "losses = rng.pareto(α, size=(R,n)).sum(axis=1)\n",
    "bigLosses = losses[losses > γ]\n",
    "payouts = bigLosses - γ\n",
    "\n",
    "np.mean(payouts)"
   ]
  },
  {
   "cell_type": "code",
   "execution_count": 47,
   "metadata": {},
   "outputs": [
    {
     "name": "stdout",
     "output_type": "stream",
     "text": [
      "We had 13021 reinsurer payouts out of 10^6 simulations.\n"
     ]
    },
    {
     "data": {
      "image/png": "[encoded data removed]",
      "text/plain": [
       "<Figure size 432x288 with 1 Axes>"
      ]
     },
     "metadata": {
      "image/png": {
       "height": 248,
       "width": 388
      },
      "needs_background": "light"
     },
     "output_type": "display_data"
    }
   ],
   "source": [
    "print(f\"We had {len(bigLosses)} reinsurer payouts out of 10^{int(np.log10(R))} simulations.\")\n",
    "plt.hist(bigLosses, bins=100);"
   ]
  },
  {
   "cell_type": "markdown",
   "metadata": {},
   "source": [
    "What about the 99.9% Value-at-Risk for the reinsurer?"
   ]
  },
  {
   "cell_type": "code",
   "execution_count": 48,
   "metadata": {},
   "outputs": [
    {
     "data": {
      "text/plain": [
       "377.0792235808656"
      ]
     },
     "execution_count": 48,
     "metadata": {},
     "output_type": "execute_result"
    }
   ],
   "source": [
    "rng = rnd.default_rng(1)\n",
    "\n",
    "losses = rng.pareto(α, size=(R,n)).sum(axis=1)\n",
    "payouts = np.maximum(losses - γ, 0)\n",
    "\n",
    "np.quantile(payouts, 0.999)"
   ]
  },
  {
   "cell_type": "markdown",
   "metadata": {},
   "source": [
    "Let's consider a financial example. Say that $X_i$ is the future stock price for company $i$ at expiry time $T$. \n",
    "We assume the Black-Scholes model, so $X_i \\sim \\mathsf{Lognormal}(\\mu_i, \\sigma^2)$, and assume a constant correlation $\\rho$ between each pair of stocks.\n",
    "\n",
    "Let's imagine we have a simple index which tracks $n$ of these stocks, so at time $T$ is will have the value\n",
    "$$ S_T = \\sum_{i=1}^n X_i . $$\n",
    "\n",
    "\n",
    "What would be the value of a call option on this index, i.e., what is\n",
    "$$ \\mathbb{E}[ \\mathrm{e}^{-r T} ( S_T - K )_+ ] \\, ?$$\n",
    "(Let's ignore the $\\mathbb{Q}$ measure here.)\n",
    "\n",
    "Set $n = 2$, $r = 0.05$, $T = 1$, $\\mu_i = \\frac{i}{10}$, $\\sigma^2 = \\frac{1}{10}$, $\\rho = 0.25$, $K = 2$."
   ]
  },
  {
   "cell_type": "code",
   "execution_count": 49,
   "metadata": {
    "scrolled": true
   },
   "outputs": [
    {
     "name": "stdout",
     "output_type": "stream",
     "text": [
      "Option value: 0.024134250001376582 (+- 0.000208))\n",
      "Probability of payout: 0.094762 (+- 0.000574))\n"
     ]
    }
   ],
   "source": [
    "# Problem constants\n",
    "n = 2\n",
    "r = 0.05\n",
    "T = 1\n",
    "K = 3\n",
    "ρ = -0.5\n",
    "σ2 = 1/10\n",
    "R = 10**6\n",
    "\n",
    "# Mean vector and covariance matrix\n",
    "μ = np.arange(1, n+1) / 10\n",
    "Σ = σ2 * ( (1-ρ) * np.eye(n) + ρ * np.ones(n) )\n",
    "\n",
    "# Simulating the index value at T\n",
    "rng = rnd.default_rng()\n",
    "normals = rng.multivariate_normal(μ, Σ, size=R)\n",
    "Xs = np.exp(normals)\n",
    "Ss = Xs.sum(axis=1)\n",
    "\n",
    "# Calculating the MC estimate and CIs\n",
    "ests = np.exp(-r*T) * np.maximum(Ss - K, 0)\n",
    "ellHat = ests.mean()\n",
    "sigmaHat = ests.std()\n",
    "widthCI = 1.96 * sigmaHat / np.sqrt(R)\n",
    "\n",
    "print(f\"Option value: {ellHat} (+- {widthCI:f}))\")\n",
    "\n",
    "ests = (Ss > K)\n",
    "ellHat = ests.mean()\n",
    "sigmaHat = ests.std()\n",
    "widthCI = 1.96 * sigmaHat / np.sqrt(R)\n",
    "print(f\"Probability of payout: {ellHat} (+- {widthCI:f}))\")"
   ]
  },
  {
   "cell_type": "code",
   "execution_count": 50,
   "metadata": {},
   "outputs": [
    {
     "data": {
      "text/plain": [
       "2.4458187502697877"
      ]
     },
     "execution_count": 50,
     "metadata": {},
     "output_type": "execute_result"
    }
   ],
   "source": [
    "Ss.mean()"
   ]
  }
 ],
 "metadata": {
  "@webio": {
   "lastCommId": null,
   "lastKernelId": null
  },
  "kernelspec": {
   "display_name": "Python [conda env:root] *",
   "language": "python",
   "name": "conda-root-py"
  },
  "language_info": {
   "codemirror_mode": {
    "name": "ipython",
    "version": 3
   },
   "file_extension": ".py",
   "mimetype": "text/x-python",
   "name": "python",
   "nbconvert_exporter": "python",
   "pygments_lexer": "ipython3",
   "version": "3.7.6"
  }
 },
 "nbformat": 4,
 "nbformat_minor": 4
}
