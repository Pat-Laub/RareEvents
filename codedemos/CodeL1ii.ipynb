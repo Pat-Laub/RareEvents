{
 "cells": [
  {
   "cell_type": "markdown",
   "metadata": {},
   "source": [
    "## Importance sampling"
   ]
  },
  {
   "cell_type": "markdown",
   "metadata": {},
   "source": [
    "### Setup"
   ]
  },
  {
   "cell_type": "code",
   "execution_count": 1,
   "metadata": {},
   "outputs": [],
   "source": [
    "# numpy is the 'Numerical Python' package\n",
    "import numpy as np\n",
    "\n",
    "# Numpy's methods for pseudorandom number generation\n",
    "import numpy.random as rnd\n",
    "\n",
    "# Import the plotting library matplotlib\n",
    "import matplotlib.pyplot as plt"
   ]
  },
  {
   "cell_type": "code",
   "execution_count": 2,
   "metadata": {},
   "outputs": [
    {
     "name": "stdout",
     "output_type": "stream",
     "text": [
      "Python version: 3.7.6 | packaged by conda-forge | (default, Jan  7 2020, 21:00:34) [MSC v.1916 64 bit (AMD64)]\n",
      "Numpy version: 1.17.4\n"
     ]
    }
   ],
   "source": [
    "# Print out the versions of software I'm running\n",
    "import sys\n",
    "print(\"Python version:\", sys.version)\n",
    "print(\"Numpy version:\", np.__version__)"
   ]
  },
  {
   "cell_type": "code",
   "execution_count": 3,
   "metadata": {},
   "outputs": [],
   "source": [
    "# Reminder that we need a relatively new version of numpy to make\n",
    "# use of the latest pseudorandom number generation algorithms.\n",
    "if int(np.__version__.split('.')[1]) < 17:\n",
    "    raise RuntimeError(\"Need Numpy version >= 1.17\")    "
   ]
  },
  {
   "cell_type": "markdown",
   "metadata": {},
   "source": [
    "Let's try to approximate some tail probability for a normal distribution. E.g. take $X \\sim \\mathsf{Normal}(1, 2^2)$, and try to estimate $\\mathbb{P}(X > \\gamma)$.\n",
    "\n",
    "Frankly, we don't need to approximate this, since we have\n",
    "\n",
    "$$ \\mathbb{P}(X > \\gamma) = \\mathbb{P}(2Z + 1 > \\gamma) = \\mathbb{P}\\bigl(Z > \\frac{\\gamma-1}{2}\\bigr) = \\Phi\\bigl(-\\frac{\\gamma-1}{2}\\bigr) $$\n",
    "\n",
    "where $Z \\sim \\mathsf{Normal}(0,1)$ and $\\Phi$ is the standard normal c.d.f."
   ]
  },
  {
   "cell_type": "markdown",
   "metadata": {},
   "source": [
    "But let's pretend we couldn't calculate this, and needed to use crude Monte Carlo (CMC) to approximate it. The CMC approximation involve sampling a large number of i.i.d. $X$'s and looking at the fraction of these which are greater than $\\gamma$. Let's start with $\\gamma=5$."
   ]
  },
  {
   "cell_type": "code",
   "execution_count": 4,
   "metadata": {},
   "outputs": [
    {
     "name": "stdout",
     "output_type": "stream",
     "text": [
      "CMC estimate:\t 0.0216 (+/- 0.0028493196223660132)\n",
      "CMC low bound:\t 0.01875068037763399\n",
      "CMC upp bound:\t 0.024449319622366013\n",
      "Theoretical:\t 0.022750131948179195\n"
     ]
    }
   ],
   "source": [
    "# scipy is the 'Scientific Python' package\n",
    "# We'll use the stats package to get some\n",
    "# p.d.f.s & c.d.f.s\n",
    "from scipy import stats\n",
    "\n",
    "γ = 5\n",
    "μ = 1\n",
    "σ = 2 # <-- Note, not σ^2!\n",
    "\n",
    "R = 10**4\n",
    "rng = rnd.default_rng(1)\n",
    "normals = rng.normal(μ, σ, R)\n",
    "\n",
    "ests = normals > γ\n",
    "ellHat = ests.mean()\n",
    "sigmaHat = ests.std()\n",
    "widthCI = 1.96 * sigmaHat / np.sqrt(R)\n",
    "\n",
    "print(f\"CMC estimate:\\t {ellHat} (+/- {widthCI})\")\n",
    "print(f\"CMC low bound:\\t {ellHat-widthCI}\")\n",
    "print(f\"CMC upp bound:\\t {ellHat+widthCI}\")\n",
    "print(f\"Theoretical:\\t {stats.norm.cdf(-(γ-1)/2)}\")"
   ]
  },
  {
   "cell_type": "markdown",
   "metadata": {},
   "source": [
    "This seems to work well. How about using MC to estimate $\\mathbb{P}(X > 10)$? Using the theory from above we know the real probability is:"
   ]
  },
  {
   "cell_type": "code",
   "execution_count": 5,
   "metadata": {},
   "outputs": [
    {
     "data": {
      "text/plain": [
       "3.3976731247300535e-06"
      ]
     },
     "execution_count": 5,
     "metadata": {},
     "output_type": "execute_result"
    }
   ],
   "source": [
    "stats.norm.cdf(-(10-1)/2)"
   ]
  },
  {
   "cell_type": "markdown",
   "metadata": {},
   "source": [
    "Yet using CMC gives us the sad answer of"
   ]
  },
  {
   "cell_type": "code",
   "execution_count": 6,
   "metadata": {},
   "outputs": [
    {
     "name": "stdout",
     "output_type": "stream",
     "text": [
      "CMC estimate: 0.0\n"
     ]
    }
   ],
   "source": [
    "mcEstimate = np.mean(normals > 10)\n",
    "print(\"CMC estimate:\", mcEstimate)"
   ]
  },
  {
   "cell_type": "markdown",
   "metadata": {},
   "source": [
    "What's even worse, is that CMC is very confident about this wrong answer!"
   ]
  },
  {
   "cell_type": "code",
   "execution_count": 7,
   "metadata": {},
   "outputs": [
    {
     "name": "stdout",
     "output_type": "stream",
     "text": [
      "Confidence interval width: 0.0\n"
     ]
    }
   ],
   "source": [
    "ests = normals > 10\n",
    "sigmaHat = ests.std()\n",
    "widthCI = 1.96 * sigmaHat / np.sqrt(R)\n",
    "print(\"Confidence interval width:\", widthCI)"
   ]
  },
  {
   "cell_type": "markdown",
   "metadata": {},
   "source": [
    "We use importance sampling, and sample from a $\\mathsf{Normal}(\\mu', 2^2)$ distribution (i.e. we shift the mean of the original distribution). Let's go back to $\\gamma=5$ first."
   ]
  },
  {
   "cell_type": "code",
   "execution_count": 8,
   "metadata": {},
   "outputs": [
    {
     "name": "stdout",
     "output_type": "stream",
     "text": [
      "IS estimate:\t 0.023044493206409045 (+/- 0.0006875343072615055)\n",
      "IS low bound:\t 0.02235695889914754\n",
      "IS upp bound:\t 0.02373202751367055\n",
      "Theoretical:\t 0.022750131948179195\n"
     ]
    }
   ],
   "source": [
    "γ = 5\n",
    "\n",
    "# Sample from the new distribution\n",
    "μDash = γ\n",
    "normals = rng.normal(μDash, σ, R)\n",
    "\n",
    "# Calculate the likelihood ratios\n",
    "lrNumer = stats.norm.pdf(normals, μ, σ)\n",
    "lrDenom = stats.norm.pdf(normals, μDash, σ)\n",
    "lrs = lrNumer / lrDenom\n",
    "\n",
    "# Construct estimate and CI's\n",
    "ests = lrs * (normals > γ)\n",
    "ellHat = ests.mean()\n",
    "sigmaHat = ests.std()\n",
    "widthCI = 1.96 * sigmaHat / np.sqrt(R)\n",
    "print(f\"IS estimate:\\t {ellHat} (+/- {widthCI})\")\n",
    "print(f\"IS low bound:\\t {ellHat-widthCI}\")\n",
    "print(f\"IS upp bound:\\t {ellHat+widthCI}\")\n",
    "print(f\"Theoretical:\\t {stats.norm.cdf(-(γ-1)/2)}\")"
   ]
  },
  {
   "cell_type": "code",
   "execution_count": 9,
   "metadata": {},
   "outputs": [
    {
     "name": "stdout",
     "output_type": "stream",
     "text": [
      "IS estimate:\t 3.394413020005718e-06 (+/- 1.4987704226621852e-07)\n",
      "IS low bound:\t 3.2445359777394996e-06\n",
      "IS upp bound:\t 3.544290062271937e-06\n",
      "Theoretical:\t 3.3976731247300535e-06\n"
     ]
    }
   ],
   "source": [
    "γ = 10\n",
    "\n",
    "# Sample from the new distribution\n",
    "μDash = γ\n",
    "normals = rng.normal(μDash, σ, R)\n",
    "\n",
    "# Calculate the likelihood ratios\n",
    "lrNumer = stats.norm.pdf(normals, μ, σ)\n",
    "lrDenom = stats.norm.pdf(normals, μDash, σ)\n",
    "lrs = lrNumer / lrDenom\n",
    "\n",
    "# Construct estimate and CI's\n",
    "ests = lrs * (normals > γ)\n",
    "ellHat = ests.mean()\n",
    "sigmaHat = ests.std()\n",
    "widthCI = 1.96 * sigmaHat / np.sqrt(R)\n",
    "print(f\"IS estimate:\\t {ellHat} (+/- {widthCI})\")\n",
    "print(f\"IS low bound:\\t {ellHat-widthCI}\")\n",
    "print(f\"IS upp bound:\\t {ellHat+widthCI}\")\n",
    "print(f\"Theoretical:\\t {stats.norm.cdf(-(γ-1)/2)}\")"
   ]
  },
  {
   "cell_type": "code",
   "execution_count": 10,
   "metadata": {},
   "outputs": [
    {
     "data": {
      "image/png": "[encoded data removed]",
      "text/plain": [
       "<Figure size 432x288 with 1 Axes>"
      ]
     },
     "metadata": {
      "needs_background": "light"
     },
     "output_type": "display_data"
    }
   ],
   "source": [
    "plt.hist(ests, 20);\n",
    "plt.xticks([0, 1e-5, 2e-5, 3e-5, 4e-5, 5e-5]);"
   ]
  },
  {
   "cell_type": "code",
   "execution_count": 11,
   "metadata": {},
   "outputs": [
    {
     "data": {
      "text/plain": [
       "(4.002058099702878e-05, 690)"
      ]
     },
     "execution_count": 11,
     "metadata": {},
     "output_type": "execute_result"
    }
   ],
   "source": [
    "np.max(ests), np.argmax(ests)"
   ]
  },
  {
   "cell_type": "code",
   "execution_count": 12,
   "metadata": {},
   "outputs": [
    {
     "data": {
      "text/plain": [
       "0.3394246408190732"
      ]
     },
     "execution_count": 12,
     "metadata": {},
     "output_type": "execute_result"
    },
    {
     "data": {
      "image/png": "[encoded data removed]",
      "text/plain": [
       "<Figure size 432x288 with 1 Axes>"
      ]
     },
     "metadata": {
      "needs_background": "light"
     },
     "output_type": "display_data"
    }
   ],
   "source": [
    "plt.hist(lrs, 20);\n",
    "lrs.mean()"
   ]
  },
  {
   "cell_type": "markdown",
   "metadata": {},
   "source": [
    "## Siegmund's Algorithm"
   ]
  },
  {
   "cell_type": "markdown",
   "metadata": {},
   "source": [
    "We model an insurer's risk reserve process $R_t$ as\n",
    "\n",
    "$$ R(t) = u + p t - \\sum_{i=1}^{N_t} U_i $$\n",
    "\n",
    "where $u \\ge 0$, $p > 0$, $N_t$ is a Poisson process with intensity $\\lambda$ and $U_i \\overset{\\mathrm{i.i.d.}}{\\sim} \\mathsf{Exponential}(\\lambda_U)$. \n",
    "\n",
    "For this example, it's easier to work with the net payout\n",
    "\n",
    "$$ P(t) = \\sum_{i=1}^{N_t} U_i - p t \\,, $$\n",
    "\n",
    "The only possible times when the insurer's reserve can become negative is at the times $T_1, T_2, \\dots$ when the claims arrive. If we denote the interarrival times as $\\xi_i = T_i - T_{i-1} \\sim \\mathsf{Exponential}(\\lambda_\\xi)$ (letting $T_0 \\equiv 0$), then we have the running sum form\n",
    "\n",
    "$$ S_n := P(T_n) = \\sum_{i=1}^{n} X_i \\quad \\text{where} \\quad X_i = U_i - p \\xi_i \\,.$$\n",
    "\n",
    "As $V_i := p \\xi_i \\sim \\mathsf{Exponential}(\\lambda_V)$ where $\\lambda_V = \\lambda_\\xi \\,/\\, p$, then we instead use\n",
    "\n",
    "$$ S_n = \\sum_{i=1}^{n} X_i \\quad \\text{where} \\quad X_i = U_i - V_i \\,.$$\n",
    "\n",
    "The __time of ruin__ given that our initial capital is $u$ is \n",
    "\n",
    "$$ \\tau_u = \\min \\{n \\ge 1 : S_n > u \\} $$\n",
    "\n",
    "and so our __infinite time ruin probability__ is\n",
    "\n",
    "$$ \\mathbb{P}(\\tau_u < \\infty) \\,. $$\n",
    "\n",
    "We can roughly estimate this with crude Monte Carlo."
   ]
  },
  {
   "cell_type": "code",
   "execution_count": 13,
   "metadata": {},
   "outputs": [
    {
     "name": "stdout",
     "output_type": "stream",
     "text": [
      "CMC lower bound estimate:\t 3e-06\n",
      "Wall time: 12.4 s\n"
     ]
    }
   ],
   "source": [
    "%%time \n",
    "\n",
    "rng = rnd.default_rng(1)\n",
    "\n",
    "u = 1\n",
    "p = 0.5\n",
    "λ_U = 6\n",
    "λ_ξ = 0.005\n",
    "λ_V = λ_ξ / p\n",
    "giveUpTime = 200\n",
    "R = 10**6\n",
    "\n",
    "alive = np.full(R, True)\n",
    "S_n = np.zeros(R)\n",
    "\n",
    "for n in range(1, giveUpTime):\n",
    "    U_n = rng.exponential(1/λ_U, R)\n",
    "    V_n = rng.exponential(1/λ_V, R)\n",
    "    X_n = U_n - V_n\n",
    "    S_n += X_n\n",
    "    \n",
    "    bankruptNow = (S_n > u) & alive\n",
    "    \n",
    "    alive[bankruptNow] = False\n",
    "    \n",
    "    if np.sum(alive) == 0:\n",
    "        break\n",
    "    \n",
    "ellHat = np.mean(~alive)\n",
    "\n",
    "print(f\"CMC lower bound estimate:\\t {ellHat}\")"
   ]
  },
  {
   "cell_type": "markdown",
   "metadata": {},
   "source": [
    "#### Let's exponentially tilt the $X_i$ to make them bigger.\n",
    "\n",
    "Say $X_i \\sim f(\\cdot)$ and $M(\\theta) = \\mathbb{E}_f[ \\mathrm{e}^{\\theta X} ] $. The proposal distribution is \n",
    "\n",
    "$$ g(x) = \\frac{ \\mathrm{e}^{\\theta x} }{ M(\\theta) } f(x)\n",
    "        = \\mathrm{e}^{\\theta x - \\kappa(\\theta)} f(x)$$\n",
    "\n",
    "where $\\kappa(\\theta) := \\log M(\\theta).$\n",
    "\n",
    "\n",
    "The likelihood ratio for a sequence $X_1, X_2, \\dots, X_{\\tau_u}$ is\n",
    "\n",
    "$$ \\begin{aligned}\n",
    "L \n",
    "&= \\prod_{i=1}^{\\tau_u} \\frac{f(X_i)}{g(X_i)} = \\prod_{i=1}^{\\tau_u} \\frac{f(X_i)}{ \\mathrm{e}^{\\theta X_i - \\kappa(\\theta)} f(X_i)}\n",
    "= \\exp\\bigl\\{ -\\theta S_{\\tau_u} + \\tau_u \\kappa(\\theta) \\bigr\\} \\,.\n",
    "\\end{aligned} \n",
    "$$\n",
    "\n",
    "Thus, our estimate is\n",
    "\n",
    "$$ \\mathbb{P}(\\tau_u < \\infty)  \n",
    "\\approx \\frac{1}{R} \\sum_{r=1}^R 1\\{ \\tau_u^{(r)} < \\infty \\} \\exp\\bigl\\{ -\\theta S_{\\tau_u^{(r)}} + \\tau_u^{(r)} \\kappa(\\theta) \\bigr\\}  \n",
    "=: \\hat{\\ell}_{\\mathrm{IS}} \\,. $$\n"
   ]
  },
  {
   "cell_type": "markdown",
   "metadata": {},
   "source": [
    "#### Does this make bankruptcy more likely? \n",
    "\n",
    "Let's calculate the mean of the tilted summands:\n",
    "\n",
    "$$ \\mathbb{E}_g [ X ] \n",
    "= \\mathbb{E}_f \\bigl[ X \\frac{g(X)}{f(X)} \\bigr]\n",
    "= \\frac{ \\mathbb{E}_f \\bigl[  X \\mathrm{e}^{\\theta X} \\bigr] }{ M(\\theta) } \\,.\n",
    " $$\n",
    "\n",
    "Since\n",
    "\n",
    "$$ M'(\\theta) \n",
    "=  \\frac{\\mathrm{d}}{\\mathrm{d}\\theta} \\mathbb{E} \\bigl[ \\mathrm{e}^{\\theta X} \\bigr]\n",
    "=  \\mathbb{E}_f \\bigl[ \\frac{\\mathrm{d}}{\\mathrm{d}\\theta}  \\mathrm{e}^{\\theta X} \\bigr]\n",
    "= \\mathbb{E}_f \\bigl[ X \\mathrm{e}^{\\theta X} \\bigr] \\,,\n",
    "$$\n",
    "\n",
    "and as $\\kappa'(\\theta) = M'(\\theta) / M(\\theta)$ we conclude\n",
    "\n",
    "$$ \\mathbb{E}_g [ X ] = \\kappa'(\\theta) \\,. $$\n",
    "\n",
    "Thus, we should choose $\\theta$ such that $\\mathbb{E}_g [ X ] \\ge 0$ and we will always simulate bankruptcy events $\\mathbb{P}_g(\\tau_u < \\infty) = 1$.\n",
    "\n",
    "#### What is the moment generating function $M(\\theta)$?\n",
    "\n",
    "Remember $X = U - V$ where\n",
    "\n",
    "$$U \\sim \\mathsf{Exponential}(\\lambda_U) \\text{ and  } V \\sim \\mathsf{Exponential}(\\lambda_V) \\,. $$\n",
    "\n",
    "Also remember $E \\sim \\mathsf{Exponential}(\\lambda)$ has $M_E(\\theta) = \\lambda / (\\lambda - \\theta)$ for $\\theta < \\lambda$. \n",
    "\n",
    "Then\n",
    "\n",
    "$$\n",
    "\\begin{aligned}\n",
    "M_X(\\theta) \n",
    "&= \\mathbb{E}\\bigl[ \\mathrm{e}^{\\theta (U - V)} \\bigr] \n",
    "= \\mathbb{E}\\bigl[ \\mathrm{e}^{\\theta U} \\bigr] \\mathbb{E}\\bigl[ \\mathrm{e}^{-\\theta V} \\bigr] \\\\ \n",
    "&= M_U(\\theta) M_V(-\\theta) \n",
    "= \\frac{\\lambda_U}{\\lambda_U - \\theta} \\frac{\\lambda_V}{\\lambda_V + \\theta} \\,.\n",
    "\\end{aligned}\n",
    "$$\n",
    "\n",
    "#### Which tilting parameter $\\theta$  do we choose?\n",
    "\n",
    "First requirement is that $\\theta$ is large enough that $\\kappa'(\\theta) \\ge 0$ so $\\mathbb{P}_g(\\tau_u < \\infty) = 1$. Then\n",
    "\n",
    "$$\n",
    "\\begin{aligned}\n",
    "\\hat{\\ell}_{\\mathrm{IS}} \n",
    "&= \\frac{1}{R} \\sum_{r=1}^R 1\\{ \\tau_u^{(r)} < \\infty \\} \\exp\\bigl\\{ -\\theta S_{\\tau_u^{(r)}} + \\tau_u^{(r)} \\kappa(\\theta) \\bigr\\} \\\\\n",
    "&= \\frac{1}{R} \\sum_{r=1}^R \\exp\\bigl\\{ -\\theta S_{\\tau_u^{(r)}} \\bigr\\}\n",
    "\\end{aligned} $$\n",
    "\n",
    "if $\\kappa(\\theta) = 0$. This corresponds to solving for $\\gamma$\n",
    "\n",
    "$$M_X(\\gamma) = \\frac{\\lambda_U}{\\lambda_U - \\gamma} \\frac{\\lambda_V}{\\lambda_V + \\gamma}  = 1 $$\n",
    "\n",
    "Has solution $\\gamma = \\lambda_U - \\lambda_V$ (to check $ M_X(\\gamma) = \\frac{\\lambda_U}{\\lambda_V} \\frac{\\lambda_V}{\\lambda_U }  = 1 $).\n",
    "\n",
    "#### How do we simulate from this distribution?\n",
    "\n",
    "So we've chosen the proposal distribution for IS to be \n",
    "\n",
    "$$\n",
    "g(x)\n",
    "= \\frac{\\mathrm{e}^{\\gamma x}}{M_X(\\gamma)} f(x) \n",
    "= \\mathrm{e}^{\\gamma x} f(x) \\,. \n",
    "$$\n",
    "\n",
    "Under the tilted distribution $g$ where we tilt by $\\gamma$, the $X$ has moment generating function\n",
    "\n",
    "$$ \n",
    "\\begin{aligned}\n",
    "\\mathbb{E}_g \\bigl[ \\mathrm{e}^{\\theta X } \\bigr]\n",
    "&= \\int \\mathrm{e}^{\\theta x } g(x) \\,\\mathrm{d}x \n",
    "= \\int \\mathrm{e}^{\\theta x } \\mathrm{e}^{\\gamma x} f(x) \\,\\mathrm{d}x \\\\\n",
    "&= \\int \\mathrm{e}^{(\\theta+\\gamma) x}  f(x) \\,\\mathrm{d}x \n",
    "= M_X(\\theta + \\gamma) \\\\\n",
    "&= \\frac{\\lambda_U}{\\lambda_U - (\\theta + \\gamma)} \\frac{\\lambda_V}{\\lambda_V + (\\theta + \\gamma)} \\\\\n",
    "&= \\frac{\\lambda_U}{\\lambda_U - (\\theta + \\lambda_U - \\lambda_V)} \\frac{\\lambda_V}{\\lambda_V + (\\theta + \\lambda_U - \\lambda_V)} \\\\\n",
    "&= \\frac{\\lambda_V}{\\lambda_V - \\theta} \\frac{\\lambda_U}{\\lambda_U + \\theta} \\,.\n",
    "\\end{aligned}\n",
    "$$\n",
    "\n",
    "Therefore, we see that the \n",
    "\n",
    "$$X_i = U_i - V_i$$ \n",
    "\n",
    "variables under the exponential tilted (by $\\gamma = \\lambda_U - \\lambda_V$) distribution have the component distributions\n",
    "\n",
    "$$U \\sim \\mathsf{Exponential}(\\lambda_V) \\text{ and  } V \\sim \\mathsf{Exponential}(\\lambda_U) $$\n",
    "\n",
    "instead of the original configurations.\n"
   ]
  },
  {
   "cell_type": "code",
   "execution_count": 14,
   "metadata": {},
   "outputs": [
    {
     "name": "stdout",
     "output_type": "stream",
     "text": [
      "CMC estimate:\t 4.06000097824725e-06 (+/- 1.3874567384834677e-07)\n",
      "CMC low bound:\t 3.921255304398903e-06\n",
      "CMC upp bound:\t 4.1987466520955965e-06\n",
      "Wall time: 199 ms\n"
     ]
    }
   ],
   "source": [
    "%%time \n",
    "\n",
    "rng = rnd.default_rng(1)\n",
    "\n",
    "γ = λ_U - λ_V\n",
    "giveUpTime = 10**3\n",
    "R = 10**6\n",
    "\n",
    "alive = np.full(R, True)\n",
    "S_n = np.zeros(R)\n",
    "LRs = np.ones(R)\n",
    "\n",
    "for n in range(1, giveUpTime+1):\n",
    "    # Simulate the running sum from\n",
    "    # the IS proposal distribution \n",
    "    U_n = rng.exponential(1/λ_V, R)\n",
    "    V_n = rng.exponential(1/λ_U, R)\n",
    "    X_n = U_n - V_n\n",
    "    S_n += X_n\n",
    "    \n",
    "    # Find the ones which go bankrupt after\n",
    "    # this n-th claim has arrived.\n",
    "    bankruptNow = (S_n > u) & alive\n",
    "\n",
    "    # Store the likelihood ratio of this \n",
    "    # simulation.\n",
    "    LRs[bankruptNow] = np.exp(-γ*S_n[bankruptNow])\n",
    "    \n",
    "    # Record that this simulation is no \n",
    "    # longer running.\n",
    "    alive[bankruptNow] = 0\n",
    "    \n",
    "    # Quit after all R simulations have hit \n",
    "    # bankruptcy.\n",
    "    if np.sum(alive) == 0:\n",
    "        break\n",
    "\n",
    "if n == giveUpTime:\n",
    "    print(\"We need to keep simulating!\")\n",
    "\n",
    "ests = LRs\n",
    "ellHat = ests.mean()\n",
    "sigmaHat = ests.std()\n",
    "widthCI = 1.96 * sigmaHat / np.sqrt(R)\n",
    "\n",
    "print(f\"CMC estimate:\\t {ellHat} (+/- {widthCI})\")\n",
    "print(f\"CMC low bound:\\t {ellHat-widthCI}\")\n",
    "print(f\"CMC upp bound:\\t {ellHat+widthCI}\")"
   ]
  }
 ],
 "metadata": {
  "@webio": {
   "lastCommId": null,
   "lastKernelId": null
  },
  "kernelspec": {
   "display_name": "Python [conda env:root] *",
   "language": "python",
   "name": "conda-root-py"
  },
  "language_info": {
   "codemirror_mode": {
    "name": "ipython",
    "version": 3
   },
   "file_extension": ".py",
   "mimetype": "text/x-python",
   "name": "python",
   "nbconvert_exporter": "python",
   "pygments_lexer": "ipython3",
   "version": "3.7.6"
  }
 },
 "nbformat": 4,
 "nbformat_minor": 4
}
